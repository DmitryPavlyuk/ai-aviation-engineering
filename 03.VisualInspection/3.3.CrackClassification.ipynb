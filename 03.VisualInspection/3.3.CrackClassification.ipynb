{
 "cells": [
  {
   "cell_type": "markdown",
   "id": "ea312817",
   "metadata": {
    "slideshow": {
     "slide_type": "slide"
    }
   },
   "source": [
    "# 3.3. Crack Classification\n",
    "\n",
    "Module: Artificial Intelligence for Aviation Engineering\n",
    "\n",
    "Instructor: prof. Dmitry Pavlyuk"
   ]
  },
  {
   "cell_type": "markdown",
   "id": "aab56056",
   "metadata": {
    "id": "aab56056",
    "slideshow": {
     "slide_type": "slide"
    }
   },
   "source": [
    "# Thank you"
   ]
  }
 ],
 "metadata": {
  "celltoolbar": "Slideshow",
  "kernelspec": {
   "display_name": "Python 3 (ipykernel)",
   "language": "python",
   "name": "python3"
  },
  "language_info": {
   "codemirror_mode": {
    "name": "ipython",
    "version": 3
   },
   "file_extension": ".py",
   "mimetype": "text/x-python",
   "name": "python",
   "nbconvert_exporter": "python",
   "pygments_lexer": "ipython3",
   "version": "3.9.12"
  }
 },
 "nbformat": 4,
 "nbformat_minor": 5
}

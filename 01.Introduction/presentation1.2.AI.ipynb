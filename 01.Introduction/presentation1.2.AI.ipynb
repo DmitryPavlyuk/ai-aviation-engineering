{
 "cells": [
  {
   "cell_type": "markdown",
   "id": "e1b24df0",
   "metadata": {
    "colab_type": "text",
    "id": "view-in-github",
    "slideshow": {
     "slide_type": "skip"
    }
   },
   "source": [
    "<a href=\"https://colab.research.google.com/github/DmitryPavlyuk/ai-aviation-engineering/blob/main/01.Introduction/presentation1.2.AI.ipynb\" target=\"_parent\"><img src=\"https://colab.research.google.com/assets/colab-badge.svg\" alt=\"Open In Colab\"/></a>"
   ]
  },
  {
   "cell_type": "markdown",
   "id": "69429c05",
   "metadata": {
    "id": "69429c05",
    "slideshow": {
     "slide_type": "slide"
    }
   },
   "source": [
    "# 1. AI or not AI?\n",
    "\n",
    "Module: Artificial Intelligence for Aviation Engineering\n",
    "\n",
    "Instructor: prof. Dmitry Pavlyuk"
   ]
  },
  {
   "cell_type": "markdown",
   "id": "a897b6c6",
   "metadata": {
    "id": "a897b6c6",
    "slideshow": {
     "slide_type": "slide"
    }
   },
   "source": [
    "# What is AI?"
   ]
  },
  {
   "cell_type": "markdown",
   "id": "ab90d007",
   "metadata": {
    "id": "ab90d007",
    "slideshow": {
     "slide_type": "subslide"
    }
   },
   "source": [
    "# AI buzzword\n",
    "\n",
    "![pythonCLI](https://raw.githubusercontent.com/DmitryPavlyuk/ai-aviation-engineering/main/01.Introduction/img/ai-buzz.png)"
   ]
  },
  {
   "cell_type": "markdown",
   "id": "75de8eba",
   "metadata": {
    "id": "ab90d007",
    "slideshow": {
     "slide_type": "subslide"
    }
   },
   "source": [
    "# Vending machine - AI?\n",
    "\n",
    "![Vending Machine](https://raw.githubusercontent.com/DmitryPavlyuk/ai-aviation-engineering/main/01.Introduction/img/vending.png)"
   ]
  },
  {
   "cell_type": "markdown",
   "id": "77242fd3",
   "metadata": {
    "id": "ab90d007",
    "slideshow": {
     "slide_type": "subslide"
    }
   },
   "source": [
    "# Chess robot - AI?\n",
    "\n",
    "![Chess Robot](https://raw.githubusercontent.com/DmitryPavlyuk/ai-aviation-engineering/main/01.Introduction/img/chess-robot.png)"
   ]
  },
  {
   "cell_type": "markdown",
   "id": "98fefa17",
   "metadata": {
    "id": "ab90d007",
    "slideshow": {
     "slide_type": "subslide"
    }
   },
   "source": [
    "# Autonomous Vacuum Clear - AI?\n",
    "\n",
    "![Vacuum Cleaner](https://raw.githubusercontent.com/DmitryPavlyuk/ai-aviation-engineering/main/01.Introduction/img/cleaner.png)"
   ]
  },
  {
   "cell_type": "markdown",
   "id": "151efb0b",
   "metadata": {
    "id": "ab90d007",
    "slideshow": {
     "slide_type": "subslide"
    }
   },
   "source": [
    "# Search Engine - AI?\n",
    "\n",
    "![Google Search Engine](https://raw.githubusercontent.com/DmitryPavlyuk/ai-aviation-engineering/main/01.Introduction/img/google-search.png)"
   ]
  },
  {
   "attachments": {},
   "cell_type": "markdown",
   "id": "75ae8029",
   "metadata": {
    "id": "a897b6c6",
    "slideshow": {
     "slide_type": "subslide"
    }
   },
   "source": [
    "## Intelligence\n",
    "\n",
    "__Intelligence is the ability to learn or understand or to deal with new or trying situations__\n",
    "(Webster Dictionary)\n",
    "\n",
    "\n",
    "__Intelligence is the ability to acquire and apply knowledge and skills__\n",
    "(Google’s dictionary, Oxford Languages)\n",
    "\n",
    "![Hawking](https://raw.githubusercontent.com/DmitryPavlyuk/ai-aviation-engineering/main/01.Introduction/img/hawking.png)\n"
   ]
  },
  {
   "attachments": {},
   "cell_type": "markdown",
   "id": "12bfe2b9",
   "metadata": {
    "id": "a897b6c6",
    "slideshow": {
     "slide_type": "subslide"
    }
   },
   "source": [
    "## Artificial Intelligence\n",
    "\n",
    "__Artificial intelligence (AI) is the capability of computer systems or algorithms to imitate intelligent human behaviour__\n",
    "Webster Dictionary\n",
    "\n",
    "\n",
    "__Artificial intelligence (AI) is the theory and development of computer systems able to perform tasks normally requiring human intelligence__\n",
    "Google's dictionary, Oxford Languages\n"
   ]
  },
  {
   "attachments": {},
   "cell_type": "markdown",
   "id": "bcff45e3",
   "metadata": {
    "id": "a897b6c6",
    "slideshow": {
     "slide_type": "subslide"
    }
   },
   "source": [
    "## Artificial Intelligence: Types\n",
    "\n",
    "* Human Behaviour vs. Rational (Ideal) Behaviour?\n",
    "\n",
    "* Think like a human vs. Act like a human?\n",
    "\n",
    "\n",
    "![Hawking](https://raw.githubusercontent.com/DmitryPavlyuk/ai-aviation-engineering/main/01.Introduction/img/ai-types.png)"
   ]
  },
  {
   "attachments": {},
   "cell_type": "markdown",
   "id": "006f8b86",
   "metadata": {
    "id": "a897b6c6",
    "slideshow": {
     "slide_type": "subslide"
    }
   },
   "source": [
    "## Artificial Intelligence and Human Behaviour\n",
    "\n",
    "![Hawking](https://raw.githubusercontent.com/DmitryPavlyuk/ai-aviation-engineering/main/01.Introduction/img/ai-parts.png)"
   ]
  },
  {
   "attachments": {},
   "cell_type": "markdown",
   "id": "55a521a2",
   "metadata": {
    "id": "a897b6c6",
    "slideshow": {
     "slide_type": "slide"
    }
   },
   "source": [
    "# Brief History of AI"
   ]
  },
  {
   "attachments": {},
   "cell_type": "markdown",
   "id": "57e08651",
   "metadata": {
    "slideshow": {
     "slide_type": "subslide"
    }
   },
   "source": [
    "# Brief History of AI - 1\n",
    "- 1950: Turing Test (the imitation game) – Alan Turing published the paper \"Computing Machinery and Intelligence\" with the idea of machines being able to simulate human intelligence.\n",
    "- 1956: Dartmouth Workshop – the term \"Artificial Intelligence\" is coined by John McCarthy\n",
    "- 1957: Perceptron (Early Neural Networks) - Frank Rosenblatt developed the Perceptron, an early model of a neural network designed for pattern recognition.\n",
    "- 1966: ELIZA (Early Chatbot)   - Joseph Weizenbaum developed ELIZA, an early natural language processing program that simulates a conversation with a human.\n",
    "![AI hist](https://raw.githubusercontent.com/DmitryPavlyuk/ai-aviation-engineering/main/01.Introduction/img/ai-history1.png)"
   ]
  },
  {
   "attachments": {},
   "cell_type": "markdown",
   "id": "d6eed45d",
   "metadata": {
    "slideshow": {
     "slide_type": "subslide"
    }
   },
   "source": [
    "# Brief History of AI - 2\n",
    "- 1980: Rise of Expert Systems – expert systems like MYCIN (used for diagnosing bacterial infections), emerged.\n",
    "- 1997: Deep Blue Defeats Chess Champion – IBM Deep Blue defeated world chess champion Garry Kasparov.\n",
    "- 2000s: AI in Everyday Applications   - AI started being integrated into various consumer applications like spam filters, voice recognition (Siri, Google Assistant), and recommendation systems (Netflix, Amazon).\n",
    "![AI hist](https://raw.githubusercontent.com/DmitryPavlyuk/ai-aviation-engineering/main/01.Introduction/img/ai-history2.png)"
   ]
  },
  {
   "attachments": {},
   "cell_type": "markdown",
   "id": "32d8553d",
   "metadata": {
    "slideshow": {
     "slide_type": "subslide"
    }
   },
   "source": [
    "# Brief History of AI - 3\n",
    "- 2012: Deep Learning Breakthrough – showcases the power of deep learning like ImageNet Competition\n",
    "- 2016: AlphaGo Defeats Go Champion - DeepMind’s AlphaGo, using deep reinforcement learning, defeats Lee Sedol\n",
    "- 2020s: Generative AI – large language models capable of generating human-like text.\n",
    "- 2022: AI Assistants   - GPT, Claude, Bard, Mistral, Gemini and others\n",
    "![AI hist](https://raw.githubusercontent.com/DmitryPavlyuk/ai-aviation-engineering/main/01.Introduction/img/ai-history3.png)"
   ]
  },
  {
   "attachments": {},
   "cell_type": "markdown",
   "id": "c6360699",
   "metadata": {
    "slideshow": {
     "slide_type": "subslide"
    }
   },
   "source": [
    "# AI Winters\n",
    "- First AI Winter (1974–1980) – crisis of overhyped promises\n",
    "    - 1969 Minsky’s and Papert’s harsh critique of Rosenblatt’s perceptron\n",
    "    - 1973 Lighthill Report: “in no part of the field have discoveries made so far produced the major impact that was then promised”\n",
    "- Second AI Winter (1987–1993) – crisis of technology\n",
    "    - Expert systems collapse: expert systems proved costly, difficult to maintain, and limited in scalability. \n",
    "    - Hardware limitations: AI systems at the time required specialised hardware\n",
    "![AI Winters](https://raw.githubusercontent.com/DmitryPavlyuk/ai-aviation-engineering/main/01.Introduction/img/ai-winters.png)"
   ]
  },
  {
   "attachments": {},
   "cell_type": "markdown",
   "id": "4f700622",
   "metadata": {
    "id": "a897b6c6",
    "slideshow": {
     "slide_type": "slide"
    }
   },
   "source": [
    "# Terminology of AI"
   ]
  },
  {
   "attachments": {},
   "cell_type": "markdown",
   "id": "df0da51f",
   "metadata": {
    "slideshow": {
     "slide_type": "subslide"
    }
   },
   "source": [
    "# Current AI: Zoo of terms - 1\n",
    "* __Machine Learning (ML)__ - algorithms learn from data to make decisions without being explicitly programmed.\n",
    "* __Artificial Neural Network (ANN)__ – an ML model consisting of interconnected nodes (neurons) organised in layers\n",
    "* __Deep Learning (DL)__ – a subset of ML that uses neural networks with many layers (deep networks) to model complex patterns in data\n",
    "![AI Winters](https://raw.githubusercontent.com/DmitryPavlyuk/ai-aviation-engineering/main/01.Introduction/img/ai-ml.png)"
   ]
  },
  {
   "attachments": {},
   "cell_type": "markdown",
   "id": "42439036",
   "metadata": {
    "slideshow": {
     "slide_type": "subslide"
    }
   },
   "source": [
    "# Current AI: Zoo of terms - 2\n",
    "* __Foundation Models__ – large DL models trained on broad datasets that can be adapted for various specific tasks \n",
    "* __Fine-tuning__ – the process of adapting a pre-trained AI model to a specific task\n",
    "* __Large Language Models (LLM)__ – a foundation model, trained on vast amounts of text data to understand and generate human language\n",
    "* __Generative Pre-trained Transformer (GPT)__ – a type of LLM that generates human-like text by predicting the next word in a sequence."
   ]
  },
  {
   "attachments": {},
   "cell_type": "markdown",
   "id": "202e8680",
   "metadata": {
    "slideshow": {
     "slide_type": "subslide"
    }
   },
   "source": [
    "# Narrow vs. General AI\n",
    "* __Narrow (Weak) AI__ - AI systems that are designed for a specific task and cannot perform tasks outside of their specialised domain\n",
    "    - Chess bots, AlphaGo\n",
    "    - Siri, Alexa, and Google Assistant\n",
    "    - Netflix, Amazon recommenders\n",
    "    ![AI Asistants](https://raw.githubusercontent.com/DmitryPavlyuk/ai-aviation-engineering/main/01.Introduction/img/ai-assistants.png)\n",
    "* __General (Strong) AI__ - AI systems that can understand, learn, and apply intelligence across a wide range of tasks, similar to human cognitive capabilities. \n",
    "    - Does not currently exist, but research is ongoing."
   ]
  },
  {
   "attachments": {},
   "cell_type": "markdown",
   "id": "1fb3b5a1",
   "metadata": {
    "slideshow": {
     "slide_type": "subslide"
    }
   },
   "source": [
    "# How weak is the Weak AI?\n",
    "AI vs. Human performance, AI Index report, 2024\n",
    "![AI Weak](https://raw.githubusercontent.com/DmitryPavlyuk/ai-aviation-engineering/main/01.Introduction/img/ai-narrow.png)"
   ]
  },
  {
   "attachments": {},
   "cell_type": "markdown",
   "id": "3cb7e2ae",
   "metadata": {
    "slideshow": {
     "slide_type": "subslide"
    }
   },
   "source": [
    "# Strong AI\n",
    "![AI Strong](https://raw.githubusercontent.com/DmitryPavlyuk/ai-aviation-engineering/main/01.Introduction/img/ai-strong.png)"
   ]
  },
  {
   "attachments": {},
   "cell_type": "markdown",
   "id": "33005661",
   "metadata": {
    "slideshow": {
     "slide_type": "subslide"
    }
   },
   "source": [
    "# How close is Strong AI?\n",
    "![AI Strong QUotes](https://raw.githubusercontent.com/DmitryPavlyuk/ai-aviation-engineering/main/01.Introduction/img/ai-strong-quotes.png)"
   ]
  },
  {
   "attachments": {},
   "cell_type": "markdown",
   "id": "8a6269c8",
   "metadata": {
    "id": "a897b6c6",
    "slideshow": {
     "slide_type": "slide"
    }
   },
   "source": [
    "# Responsible AI"
   ]
  },
  {
   "attachments": {},
   "cell_type": "markdown",
   "id": "d697787c",
   "metadata": {
    "slideshow": {
     "slide_type": "subslide"
    }
   },
   "source": [
    "# Reponsible Ai\n",
    "__Responsible AI__ is designed, developed, and used with the intention to __minimise harm and maximise benefit to individuals and society__.\n",
    "\n",
    "Key Principles of Responsible AI\n",
    "* __Ethics__: AI should be aligned with moral values and social norms.\n",
    "* __Transparency__: AI decisions should be explainable and understandable.\n",
    "* __Fairness__: AI should treat all individuals and groups fairly.\n",
    "* __Accountability__: AI developers and users should be held accountable for the impacts of AI systems.\n",
    "* __Privacy__: AI must protect individuals’ data and respect privacy."
   ]
  },
  {
   "attachments": {},
   "cell_type": "markdown",
   "id": "23be8802",
   "metadata": {
    "slideshow": {
     "slide_type": "subslide"
    }
   },
   "source": [
    "# Responsible AI\n",
    "* Copyright violation \n",
    "    - e.g., identical generation, \n",
    "    ![Ai ethics1](https://raw.githubusercontent.com/DmitryPavlyuk/ai-aviation-engineering/main/01.Introduction/img/ai-ethics1.png)\n",
    "    Source: Marcus and Southen, 2024"
   ]
  },
  {
   "attachments": {},
   "cell_type": "markdown",
   "id": "c1032f66",
   "metadata": {
    "slideshow": {
     "slide_type": "subslide"
    }
   },
   "source": [
    "# Responsible AI\n",
    "* Ethical Dilemma\n",
    "    - Tesla recognizing the pedestrian but did not slow down at a crosswalk\n",
    "    ![Ai ethics1](https://raw.githubusercontent.com/DmitryPavlyuk/ai-aviation-engineering/main/01.Introduction/img/ai-ethics2.png)\n",
    "    Source: Gitlin, 2023"
   ]
  },
  {
   "attachments": {},
   "cell_type": "markdown",
   "id": "d0106f0f",
   "metadata": {
    "slideshow": {
     "slide_type": "subslide"
    }
   },
   "source": [
    "# Responsible AI\n",
    "![Ai Incidents](https://raw.githubusercontent.com/DmitryPavlyuk/ai-aviation-engineering/main/01.Introduction/img/ai-incidents.png)\n",
    "    Source: AI Index Report, 2024"
   ]
  },
  {
   "cell_type": "markdown",
   "id": "aab56056",
   "metadata": {
    "id": "aab56056",
    "slideshow": {
     "slide_type": "slide"
    }
   },
   "source": [
    "# Thank you"
   ]
  }
 ],
 "metadata": {
  "celltoolbar": "Slideshow",
  "colab": {
   "include_colab_link": true,
   "provenance": []
  },
  "kernelspec": {
   "display_name": "Python 3 (ipykernel)",
   "language": "python",
   "name": "python3"
  },
  "language_info": {
   "codemirror_mode": {
    "name": "ipython",
    "version": 3
   },
   "file_extension": ".py",
   "mimetype": "text/x-python",
   "name": "python",
   "nbconvert_exporter": "python",
   "pygments_lexer": "ipython3",
   "version": "3.9.12"
  }
 },
 "nbformat": 4,
 "nbformat_minor": 5
}

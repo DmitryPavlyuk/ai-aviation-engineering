{
  "cells": [
    {
      "cell_type": "markdown",
      "metadata": {
        "id": "view-in-github",
        "colab_type": "text"
      },
      "source": [
        "<a href=\"https://colab.research.google.com/github/DmitryPavlyuk/ai-aviation-engineering/blob/main/01.Introduction/presentation1.2.AI.ipynb\" target=\"_parent\"><img src=\"https://colab.research.google.com/assets/colab-badge.svg\" alt=\"Open In Colab\"/></a>"
      ]
    },
    {
      "cell_type": "markdown",
      "id": "69429c05",
      "metadata": {
        "id": "69429c05"
      },
      "source": [
        "# 1. AI or not AI?\n",
        "\n",
        "Module: Artificial Intelligence for Aviation Engineering\n",
        "\n",
        "Instructor: prof. Dmitry Pavlyuk"
      ]
    },
    {
      "cell_type": "markdown",
      "id": "a897b6c6",
      "metadata": {
        "id": "a897b6c6"
      },
      "source": [
        "## What is AI?"
      ]
    },
    {
      "cell_type": "markdown",
      "id": "ab90d007",
      "metadata": {
        "id": "ab90d007"
      },
      "source": [
        "# AI buzzword\n",
        "\n",
        "![pythonCLI](https://raw.githubusercontent.com/DmitryPavlyuk/ai-aviation-engineering/main/01.Introduction/img/ai-buzz.png)"
      ]
    },
    {
      "cell_type": "markdown",
      "id": "aab56056",
      "metadata": {
        "id": "aab56056"
      },
      "source": [
        "# Thank you"
      ]
    }
  ],
  "metadata": {
    "celltoolbar": "Slideshow",
    "kernelspec": {
      "display_name": "Python 3 (ipykernel)",
      "language": "python",
      "name": "python3"
    },
    "language_info": {
      "codemirror_mode": {
        "name": "ipython",
        "version": 3
      },
      "file_extension": ".py",
      "mimetype": "text/x-python",
      "name": "python",
      "nbconvert_exporter": "python",
      "pygments_lexer": "ipython3",
      "version": "3.9.12"
    },
    "colab": {
      "provenance": [],
      "include_colab_link": true
    }
  },
  "nbformat": 4,
  "nbformat_minor": 5
}
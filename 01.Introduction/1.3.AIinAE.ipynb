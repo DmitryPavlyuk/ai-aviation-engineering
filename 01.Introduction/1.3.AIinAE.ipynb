{
 "cells": [
  {
   "cell_type": "markdown",
   "id": "e1b24df0",
   "metadata": {
    "colab_type": "text",
    "id": "view-in-github",
    "slideshow": {
     "slide_type": "skip"
    }
   },
   "source": [
    "<a href=\"https://colab.research.google.com/github/DmitryPavlyuk/ai-aviation-engineering/blob/main/01.Introduction/presentation1.2.AI.ipynb\" target=\"_parent\"><img src=\"https://colab.research.google.com/assets/colab-badge.svg\" alt=\"Open In Colab\"/></a>"
   ]
  },
  {
   "cell_type": "markdown",
   "id": "69429c05",
   "metadata": {
    "id": "69429c05",
    "slideshow": {
     "slide_type": "slide"
    }
   },
   "source": [
    "# 1.3. AI in Aviation Engineering\n",
    "\n",
    "Module: Artificial Intelligence for Aviation Engineering\n",
    "\n",
    "Instructor: prof. Dmitry Pavlyuk"
   ]
  },
  {
   "cell_type": "markdown",
   "id": "a897b6c6",
   "metadata": {
    "id": "a897b6c6",
    "slideshow": {
     "slide_type": "slide"
    }
   },
   "source": [
    "# AI in Aviation Engineering"
   ]
  },
  {
   "cell_type": "markdown",
   "id": "12bfe2b9",
   "metadata": {
    "id": "a897b6c6",
    "slideshow": {
     "slide_type": "subslide"
    }
   },
   "source": [
    "## Aviation Engineering: Key Areas\n",
    "\n",
    "1. Aircraft Design and Aerodynamics - structural design, materials engineering, propulsion systems\n",
    "2. Systems Integration - avionics systems, flight control systems, electrical, power, hydraulic and pneumatic systems, etc.\n",
    "3. Aircraft Manufacturing - manufacturing processes, assembly techniques, quality assurance, testing\n",
    "4. Aircraft Maintenance Engineering - maintenance, troubleshooting and repair, modifications\n",
    "5. Airport and Ground Systems Engineering - ground support equipment, airport infrastructure aand design, air traffic control, etc.\n",
    "6. Flight Operations and Air Traffic Management - flight planning, route Optimization, air traffic flow management, dynamic route adjustments, etc.\n",
    "7. Supply Chain and Inventory Management - component supply chain optimization, inventory management for spare parts,  logistics for aircraft components\n",
    "8. Personel Training\n",
    "\n",
    "and many other areas\n"
   ]
  },
  {
   "cell_type": "markdown",
   "id": "7e83a427",
   "metadata": {
    "id": "a897b6c6",
    "slideshow": {
     "slide_type": "subslide"
    }
   },
   "source": [
    "## Artificial Intelligence: Key Functions\n",
    "\n",
    "1. Logic and Reasonong, including:\n",
    "    - Knowledge Representation\n",
    "2. Perception and Sensing, including\n",
    "    - Computer vision\n",
    "    - Natural language understanding\n",
    "3. Learning and Adaptation, including:\n",
    "    - Supervised\n",
    "    - Unsupervised\n",
    "    - Reinforecement\n",
    "\n"
   ]
  },
  {
   "cell_type": "markdown",
   "id": "c4092b0b",
   "metadata": {
    "id": "a897b6c6",
    "slideshow": {
     "slide_type": "subslide"
    }
   },
   "source": [
    "## Artificial Intelligence: Fundamental AI techniques\n",
    "\n",
    "- Search\n",
    "- Optimisation\n",
    "- Classification\n",
    "- Clusteriing\n",
    "- Prediction\n"
   ]
  },
  {
   "cell_type": "markdown",
   "id": "bbbe606b",
   "metadata": {
    "id": "a897b6c6",
    "slideshow": {
     "slide_type": "subslide"
    }
   },
   "source": [
    "## 1. AI in Aircraft Design\n",
    "\n",
    "* __Generative Design__ - AI assists in aircraft component design by generating multiple design options that meet predefined criteria such as weight, strength, and material efficiency. \n",
    "    - Engineers use  AI-generated designs to choose and refine the best solution, reducing weight and improving efficiency\n",
    "    - <span style=\"color: red;\">__Related AI techniques: Prediction, Optimisation__</span>\n",
    "* __Virtual Aircraft Modeling__ - AI-powered digital twins replicate the physical behavior of aircraft and components to predict their behavior under various conditions. \n",
    "    - Rolls-Royce uses digital twins to simulate aircraft engines, predict wear and tear, and determine maintenance schedules to reduce downtime.\n",
    "    - <span style=\"color: red;\">__Related AI techniques: Prediction__</span>\n",
    "* __Aerodynamics Optimisation__ - AI is used to enhance aerodynamic designs by running simulations through machine learning models, identifying shapes that reduce drag and fuel consumption. \n",
    "    - Airbus utilizes AI to improve the aerodynamic shape of aircraft and test new configurations more efficiently.\n",
    "    - <span style=\"color: red;\">__Related AI techniques: Optimisation__</span>\n"
   ]
  },
  {
   "cell_type": "markdown",
   "id": "3611802e",
   "metadata": {
    "id": "a897b6c6",
    "slideshow": {
     "slide_type": "subslide"
    }
   },
   "source": [
    "## 2. AI in Manufacturing\n",
    "\n",
    "* __Automated Visual Inspection__ - AI-powered computer vision systems are used in aircraft manufacturing to identify defects in parts or structural components. \n",
    "    - Boeing has deployed AI for automated quality inspection, which helps identify cracks, surface defects, and irregularities that human inspectors might miss.\n",
    "    - <span style=\"color: red;\">__Related AI techniques: Classification, Clustering__</span>\n",
    "* __Robotic Process Automation (RPA)__ - AI is integrated with robots to automate repetitive manufacturing processes, ensuring consistent quality. \n",
    "    - Robots equipped with AI ensure that assembly procedures are carried out with precision and accuracy.\n",
    "    - <span style=\"color: red;\">__Related AI techniques: mixed__</span>\n"
   ]
  },
  {
   "cell_type": "markdown",
   "id": "0efe628f",
   "metadata": {
    "id": "a897b6c6",
    "slideshow": {
     "slide_type": "subslide"
    }
   },
   "source": [
    "## 3. AI in Maintenance [1/3]\n",
    "\n",
    "* __Engine Health Monitoring__ - AI algorithms analyze real-time sensor data from engines (temperature, vibration, pressure) to predict potential issues before they occur. \n",
    "    - Rolls-Royce uses AI to monitor jet engines in real-time to predict and prevent potential failures, optimizing maintenance schedules.\n",
    "    - <span style=\"color: red;\">__Related AI techniques: Prediction, Classification__</span>\n",
    "* __Component Remaining Lifespan Prediction__ - AI is used to predict when specific components like landing gear, hydraulic systems, or avionics are likely to fail based on operational data. \n",
    "    - General Electric uses AI-driven analysis to predict component lifespan and trigger necessary maintenance actions.\n",
    "    - <span style=\"color: red;\">__Related AI techniques: Prediction__</span>\n"
   ]
  },
  {
   "cell_type": "markdown",
   "id": "b8fd27a4",
   "metadata": {
    "id": "a897b6c6",
    "slideshow": {
     "slide_type": "subslide"
    }
   },
   "source": [
    "## 3. AI in Maintenance [2/3]\n",
    "\n",
    "* __Real-Time Diagnostics__ - By creating a digital twin of an entire aircraft, engineers can continuously monitor its health, identify anomalies, and make adjustments to improve performance and reduce operational costs.\n",
    "    - <span style=\"color: red;\">__Related AI techniques: Prediction__</span>\n",
    "* __Aircraft Inspection__ - AI-powered drones are used to inspect the exterior of aircraft for damage such as cracks, dents, or paint defects. These drones can quickly perform a detailed inspection and send data back to engineers for analysis.\n",
    "    - Airbus has used autonomous drones for aircraft visual inspection to speed up maintenance checks.\n",
    "    - <span style=\"color: red;\">__Related AI techniques: Classification, Clustering__</span>"
   ]
  },
  {
   "cell_type": "markdown",
   "id": "975653f7",
   "metadata": {
    "id": "a897b6c6",
    "slideshow": {
     "slide_type": "subslide"
    }
   },
   "source": [
    "## 3. AI in Maintenance [3/3]\n",
    "\n",
    "* __Maintenance Support__ - AI-powered virtual assistants provide instant access to technical manuals, troubleshooting tips, and maintenance procedures for engineers working on aircraft. \n",
    "    - These systems help technicians get the right information at the right time without flipping through lengthy documentation.\n",
    "    - <span style=\"color: red;\">__Related AI techniques: mixed__</span>\n",
    "* __Robotic Maintenance Systems__ - AI-driven robotic systems assist with maintenance tasks like cleaning, sanding, and even replacing small components. Robots are especially useful in tight spaces or performing repetitive tasks with high precision.\n",
    "    - <span style=\"color: red;\">__Related AI techniques: mixed__</span>"
   ]
  },
  {
   "cell_type": "markdown",
   "id": "e3a423b1",
   "metadata": {
    "id": "a897b6c6",
    "slideshow": {
     "slide_type": "subslide"
    }
   },
   "source": [
    "## 4. AI in Supply Chain and Inventory Control\n",
    "\n",
    "* __Inventory Prediction__ - AI predicts the demand for spare parts, reducing excess inventory while ensuring the availability of critical components. \n",
    "    - Boeing uses AI models to optimize inventory across its maintenance network.\n",
    "    - <span style=\"color: red;\">__Related AI techniques: Prediction__</span>\n",
    "* __Supply Chain Optimisation__ - AI models help aviation engineers manage supply chain logistics, predicting delays and optimizing shipping routes to ensure on-time availability of components and materials.\n",
    "    - <span style=\"color: red;\">__Related AI techniques: Optimisation__</span>"
   ]
  },
  {
   "cell_type": "markdown",
   "id": "f461deae",
   "metadata": {
    "id": "a897b6c6",
    "slideshow": {
     "slide_type": "subslide"
    }
   },
   "source": [
    "## 5. AI in Flight Planning - 1\n",
    "\n",
    "* __Fuel Optimisation__ - AI analyzes historical flight data, weather, wind speed, and fuel consumption metrics to recommend optimal flight paths and cruise speeds, reducing fuel consumption and costs. \n",
    "    - Honeywell's GoDirect platform uses AI to provide recommendations to pilots that help reduce fuel burn.\n",
    "    - <span style=\"color: red;\">__Related AI techniques: Optimisation__</span>\n",
    "* __Flight Delay Prediction__ - AI models predict potential delays based on various factors such as weather, air traffic, airport congestion, and aircraft readiness. This helps airlines proactively adjust schedules and allocate resources. \n",
    "    - AI-driven \"OpsHub\" system used by Delta Airlines provides early warnings of potential disruptions.\n",
    "    - <span style=\"color: red;\">__Related AI techniques: Prediction__</span>"
   ]
  },
  {
   "cell_type": "markdown",
   "id": "2446963c",
   "metadata": {
    "id": "a897b6c6",
    "slideshow": {
     "slide_type": "subslide"
    }
   },
   "source": [
    "## 5. AI in Flight Planning - 2\n",
    "\n",
    "* __Air Traffic Flow Optimization__ - AI analyzes data from multiple airports and airspace sectors to identify optimal routes that reduce congestion and save fuel. \n",
    "    - NASA and the FAA have been working on AI systems for air traffic management, which aim to improve traffic flow and reduce delays across busy airports.\n",
    "    - <span style=\"color: red;\">__Related AI techniques: Optimisation__</span>\n",
    "* __Dynamic Route Planning__ - AI analyzes changing weather patterns, air traffic conditions, and other real-time data to adjust flight routes during flight, optimizing safety and efficiency.\n",
    "    - <span style=\"color: red;\">__Related AI techniques: Search, Optimisation__</span>"
   ]
  },
  {
   "cell_type": "markdown",
   "id": "6d8ef9c5",
   "metadata": {
    "id": "a897b6c6",
    "slideshow": {
     "slide_type": "subslide"
    }
   },
   "source": [
    "## 6. AI in Flight Control [1/2]\n",
    "\n",
    "* __Autonomous Flight Control__ - AI is used to enhance flight control systems, helping to develop autonomous flight capabilities. \n",
    "    - Xwing and Airbus are experimenting with AI to achieve automated taxi, take-off, and landing (ATTOL) for future autonomous aircraft.\n",
    "    - <span style=\"color: red;\">__Related AI techniques: mixed__</span>\n",
    "* __Augmented Pilot Assistance__ - AI-based systems help pilots manage workload and make more informed decisions.\n",
    "    - AI algorithms assist in monitoring cockpit instruments, detecting potential issues, and providing optimal corrective actions.\n",
    "    - AI-powered voice assistants are used in the cockpit to handle routine tasks, allowing pilots to focus on more critical operations."
   ]
  },
  {
   "cell_type": "markdown",
   "id": "a529f1f2",
   "metadata": {
    "id": "a897b6c6",
    "slideshow": {
     "slide_type": "subslide"
    }
   },
   "source": [
    "## 6. AI in Flight Control  [2/2]\n",
    "\n",
    "* __Anomaly Detection in Systems__ - AI models analyze aircraft sensor data to detect anomalies that may indicate potential safety risks. \n",
    "    - AI detects unusual patterns in sensor readings that could indicate a hydraulic system leak or a sudden change in pressure.\n",
    "    - <span style=\"color: red;\">__Related AI techniques: Classification, Clustering__</span>\n",
    "* __Pilot Behavior Monitoring__ - AI algorithms are used to evaluate pilot performance and behavior to identify instances of potential human error or fatigue. \n",
    "    - Systems like Aireon use AI to analyze pilot activities and help improve decision-making and situational awareness.\n",
    "    - <span style=\"color: red;\">__Related AI techniques: Classification, Clustering__</span>"
   ]
  },
  {
   "cell_type": "markdown",
   "id": "0565f288",
   "metadata": {
    "id": "a897b6c6",
    "slideshow": {
     "slide_type": "subslide"
    }
   },
   "source": [
    "## 7. AI in Pricing and Passenger Experience\n",
    "\n",
    "* __Cabin Environment Optimisation__ - AI algorithms are used to control cabin temperature, lighting, and air quality based on passenger comfort preferences. \n",
    "    - The use of sensors and AI ensures a comfortable experience during long flights.\n",
    "    - <span style=\"color: red;\">__Related AI techniques: Optimisation__</span>\n",
    "* __Predictive Passenger Demand Analysis__ - AI analyzes data on passenger booking patterns, preferences, and seating habits to recommend optimal cabin configurations and seating arrangements, improving both revenue and passenger satisfaction.\n",
    "    - <span style=\"color: red;\">__Related AI techniques: Prediction, Optimisation__</span>"
   ]
  },
  {
   "cell_type": "markdown",
   "id": "9e551ea4",
   "metadata": {
    "id": "a897b6c6",
    "slideshow": {
     "slide_type": "subslide"
    }
   },
   "source": [
    "## 8. AI in Training\n",
    "\n",
    "* __AI-Based Flight Simulators__ - AI improves flight simulators by creating more realistic scenarios, including weather, traffic, and emergency situations, enabling better pilot training. AI adapts the training scenario dynamically based on pilot performance to improve skill and preparedness.\n",
    "    - <span style=\"color: red;\">__Related AI techniques: mixed__</span>\n",
    "* __VR and AR Tools for Training Engineers__ - AI-powered virtual and augmented reality tools are used to train engineers and technicians, allowing them to practice repairs or installations virtually before working on actual aircraft.\n",
    "    - <span style=\"color: red;\">__Related AI techniques: mixed__</span>"
   ]
  },
  {
   "cell_type": "markdown",
   "id": "aab56056",
   "metadata": {
    "id": "aab56056",
    "slideshow": {
     "slide_type": "slide"
    }
   },
   "source": [
    "## Thank you"
   ]
  }
 ],
 "metadata": {
  "celltoolbar": "Slideshow",
  "colab": {
   "include_colab_link": true,
   "provenance": []
  },
  "kernelspec": {
   "display_name": "Python 3 (ipykernel)",
   "language": "python",
   "name": "python3"
  },
  "language_info": {
   "codemirror_mode": {
    "name": "ipython",
    "version": 3
   },
   "file_extension": ".py",
   "mimetype": "text/x-python",
   "name": "python",
   "nbconvert_exporter": "python",
   "pygments_lexer": "ipython3",
   "version": "3.12.3"
  }
 },
 "nbformat": 4,
 "nbformat_minor": 5
}

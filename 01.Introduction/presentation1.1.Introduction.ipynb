{
  "cells": [
    {
      "cell_type": "markdown",
      "metadata": {
        "id": "view-in-github",
        "colab_type": "text"
      },
      "source": [
        "<a href=\"https://colab.research.google.com/github/DmitryPavlyuk/ai-aviation-engineering/blob/main/01.Introduction/presentation1.1.Introduction.ipynb\" target=\"_parent\"><img src=\"https://colab.research.google.com/assets/colab-badge.svg\" alt=\"Open In Colab\"/></a>"
      ]
    },
    {
      "cell_type": "markdown",
      "id": "69429c05",
      "metadata": {
        "id": "69429c05"
      },
      "source": [
        "# 1.1. Introduction\n",
        "\n",
        "Module: Artificial Intelligence for Aviation Engineering\n",
        "\n",
        "Instructor: prof. Dmitry Pavlyuk"
      ]
    },
    {
      "cell_type": "markdown",
      "id": "46779e75",
      "metadata": {
        "id": "46779e75"
      },
      "source": [
        "## About the Course\n",
        "\n",
        "* Artificial Intelligence for Aviation Engineering\n",
        "* __3 ECTS__: about 80 hours of studies (24 contact hours)\n",
        "* The course is designed for undergraduate students of Aviation Engineering and requires knowledge of higher mathematics (linear algebra, optimisation) and programming skills (Python). Skills of data loading and manipulation (numpy and pandas linrary) are beneficial, but not a mandatory prerequisite.\n",
        "* Primary language - __<span style=\"color:#9D2235\">Python</span>__\n",
        "* Learning-by-doing approach – weekly practices\n",
        "* Assessment:\n",
        "    * Group Project and Viva (100%)"
      ]
    },
    {
      "cell_type": "markdown",
      "source": [
        "## Group Project\n",
        "\n",
        "* Assessment: Technical documentation on the group project + Presentation/Viva\n",
        "* Groups (teams) are formed by students and consist of 3 or 4 students.\n",
        "* Technical documentation is organized as the project portfolio - a repository of all intermediate and final project outputs and evidence of the team's processes and activities.\n",
        "* The project is concluded by the 15-minute Viva session that consists of a group presentation (10 minutes) and then questions from the tutors.\n",
        "* Each member of the team should be prepared to answer at least one question on an aspect of their project. Slides may be used but are not essential if the team prefers to present their work in another way.\n",
        "* Ideas and Data for the projects - https://www.kaggle.com/\n"
      ],
      "metadata": {
        "id": "sryVMwf-79UF"
      },
      "id": "sryVMwf-79UF"
    },
    {
      "cell_type": "markdown",
      "id": "bd95f932",
      "metadata": {
        "id": "bd95f932"
      },
      "source": [
        "## Main topics\n",
        "\n",
        "1. Introduction to AI\n",
        "  * Definition and basic concepts of AI\n",
        "  * AI Applications in Aviation Engineering\n",
        "  * Practice: Cloud environment configuration (Colab + GutHub)\n",
        "2.\tPredictive Maintenance with AI\n",
        "  * Predictive maintenance\n",
        "  * Predictive AI models, performance, cross-validation\n",
        "  * Practice: Remaining Lifetime Prediction\n",
        "3. AI-powered Visual Inspection\n",
        "  * Visual Inspection in Aviation Maintenance\n",
        "  * Image Recognition and Computer Vision Techniques\n",
        "  * Practice: Image Classification: Google Teachable Machine/Python\n",
        "4.  Emerging issues of AI\n",
        "  * Explainable AI\n",
        "  * Trustworthy AI"
      ]
    },
    {
      "cell_type": "markdown",
      "id": "1cee1ad5",
      "metadata": {
        "id": "1cee1ad5"
      },
      "source": [
        "## Materials\n",
        "\n",
        "1. Course demo notebooks https://github.com/DmitryPavlyuk/python-da\n",
        "2. Kabashkin, I., Misnevs, B. and Zervina, O. (2023), “Artificial Intelligence in Aviation: New Professionals for New Technologies”, Applied Sciences, Vol. 13 No. 21, p. 11660, doi: 10.3390/app132111660.\n",
        "3. Ziakkas, D., Vink, L.-S., Pechlivanis, K., & Flores, A. (2023), Implementation Guide for Artificial Intelligence in Aviation: A Human-Centric Guide for Practitioners and Organization\n",
        "4. McKinsey (2024). The generative AI opportunity in airline maintenance, https://www.mckinsey.com/industries/aerospace-and-defense/our-insights/the-generative-ai-opportunity-in-airline-maintenance\n",
        "5. Eurocontrol (2020), The FLY AI Report - Demystifying and Accelerating AI in Aviation/ATM, 76p.\n"
      ]
    },
    {
      "cell_type": "markdown",
      "id": "a897b6c6",
      "metadata": {
        "id": "a897b6c6"
      },
      "source": [
        "## Programming environment"
      ]
    },
    {
      "cell_type": "markdown",
      "id": "ab90d007",
      "metadata": {
        "id": "ab90d007"
      },
      "source": [
        "A software programme is a set of instructions that allow for a certain type of computer operation.\n",
        "\n",
        "How to organise this set of instructions in Python:\n",
        "* using __Command-line interface__ (CLI) – send instructions as lines of text"
      ]
    },
    {
      "cell_type": "markdown",
      "id": "76c48894",
      "metadata": {
        "id": "76c48894"
      },
      "source": [
        "![pythonCLI](https://raw.githubusercontent.com/DmitryPavlyuk/ai-aviation-engineering/main/01.Introduction/img/pythonCLI.png)"
      ]
    },
    {
      "cell_type": "markdown",
      "id": "1012a264",
      "metadata": {
        "id": "1012a264"
      },
      "source": [
        "How to organise this set of instructions in Python:\n",
        "* using __Scripts__ – compose a file with instructions"
      ]
    },
    {
      "cell_type": "markdown",
      "id": "b6b4d4d3",
      "metadata": {
        "id": "b6b4d4d3"
      },
      "source": [
        "![pythonScript](https://raw.githubusercontent.com/DmitryPavlyuk/ai-aviation-engineering/main/01.Introduction/img/pythonScript.png)"
      ]
    },
    {
      "cell_type": "markdown",
      "id": "954bd1a5",
      "metadata": {
        "id": "954bd1a5"
      },
      "source": [
        "How to organise this set of instructions in Python:\n",
        "* using __Notebooks__ – interactively merge instructions, instructions’ results and text markdown"
      ]
    },
    {
      "cell_type": "markdown",
      "id": "314334cb",
      "metadata": {
        "id": "314334cb"
      },
      "source": [
        "## Local environment\n",
        "\n",
        "Anaconda is a distribution of the Python and R programming languages for scientific computing, that aims to simplify package management and deployment.\n",
        "\n",
        "* Install Anaconda with the latest Python (currently 3.9) - https://www.anaconda.com/\n",
        "    * Use Anaconda prompt from the Start menu to run “python” – the command line interface\n",
        "    * Use “Jupyter Notebook” to start an interactive notebook editor\n",
        "    * Use “Spyder” to start an environment for Python script editing\n",
        "    \n",
        "In this course we will mostly use Jupiter notebooks"
      ]
    },
    {
      "cell_type": "markdown",
      "id": "87fd2c51",
      "metadata": {
        "id": "87fd2c51"
      },
      "source": [
        "## Cloud environment\n",
        "\n",
        "* Register at Google Colab https://colab.research.google.com/ – a cloud environment for developing and running Python notebooks in  your browser\n",
        "* Register at Github https://github.com/ for source code storage and version control\n",
        "\n",
        "All my materials are available in Github https://github.com/DmitryPavlyuk/ai-aviation-engineering"
      ]
    },
    {
      "cell_type": "markdown",
      "id": "aab56056",
      "metadata": {
        "id": "aab56056"
      },
      "source": [
        "# Thank you"
      ]
    }
  ],
  "metadata": {
    "celltoolbar": "Slideshow",
    "kernelspec": {
      "display_name": "Python 3 (ipykernel)",
      "language": "python",
      "name": "python3"
    },
    "language_info": {
      "codemirror_mode": {
        "name": "ipython",
        "version": 3
      },
      "file_extension": ".py",
      "mimetype": "text/x-python",
      "name": "python",
      "nbconvert_exporter": "python",
      "pygments_lexer": "ipython3",
      "version": "3.9.12"
    },
    "colab": {
      "provenance": [],
      "include_colab_link": true
    }
  },
  "nbformat": 4,
  "nbformat_minor": 5
}
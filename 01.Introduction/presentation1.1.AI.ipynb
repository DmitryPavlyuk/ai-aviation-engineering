{
  "cells": [
    {
      "cell_type": "markdown",
      "id": "69429c05",
      "metadata": {
        "id": "69429c05"
      },
      "source": [
        "# 1. AI or not AI?\n",
        "\n",
        "Module: Artificial Intyelligence for Aviation Engineering\n",
        "\n",
        "Instructor: prof. Dmitry Pavlyuk"
      ]
    },
    {
      "cell_type": "markdown",
      "id": "46779e75",
      "metadata": {
        "id": "46779e75"
      },
      "source": [
        "## About the Course\n",
        "\n",
        "* Artificial Intelligence for Aviation Engineering\n",
        "* __3 ECTS__: about 80 hours of studies (24 contact hours)\n",
        "* The course is designed for undergraduate students of Aviation Engineering and requires knowledge of higher mathematics (linear algebra, optimisation) and programming skills (Python). Skills of data loading and manipulation (numpy and pandas linrary) are beneficial, but not a mandatory prerequisite.\n",
        "* Primary language - __<span style=\"color:#9D2235\">Python</span>__\n",
        "* Learning-by-doing approach – weekly practices\n",
        "* Assessment:\n",
        "    * Practical Assignments (50%)\n",
        "    * Final Practical exam (50%)"
      ]
    },
    {
      "cell_type": "markdown",
      "id": "bd95f932",
      "metadata": {
        "id": "bd95f932"
      },
      "source": [
        "## Main topics\n",
        "\n",
        "1. Introduction to AI\n",
        "  * Definition and basic concepts of AI\n",
        "  * AI Applications in Aviation Engineering\n",
        "  * Learning-by-doing: Cloud environment configuration (Colab + GutHub)\n",
        "2.\tPredictive Maintenance with AI\n",
        "  * Predictive Maintenance: definitions and success stories\n",
        "  * Practice: Remaining Lifetime Prediction\n",
        "3. AI-powered Visual Inspection\n",
        "  * Visual Inspection in Aviation Maintenance\n",
        "  * AI: Image Recognition and Computer Vision Techniques\n",
        "  * Practice: Image Classification\n"
      ]
    },
    {
      "cell_type": "markdown",
      "id": "1cee1ad5",
      "metadata": {
        "id": "1cee1ad5"
      },
      "source": [
        "## Materials\n",
        "\n",
        "1. McKinney, W. (2022), Python for Data Analysis: Data Wrangling with pandas, NumPy, and Jupyter: https://wesmckinney.com/book/\n",
        "2. Downey, A. (2016) Think Python: How to Think Like a Computer Scientist https://greenteapress.com/wp/think-python-2e/\n",
        "3. Course demo notebooks https://github.com/DmitryPavlyuk/python-da"
      ]
    },
    {
      "cell_type": "markdown",
      "id": "a897b6c6",
      "metadata": {
        "id": "a897b6c6"
      },
      "source": [
        "## Programming environment"
      ]
    },
    {
      "cell_type": "markdown",
      "id": "ab90d007",
      "metadata": {
        "id": "ab90d007"
      },
      "source": [
        "A software programme is a set of instructions that allow for a certain type of computer operation.\n",
        "\n",
        "How to organise this set of instructions in Python:\n",
        "* using __Command-line interface__ (CLI) – send instructions as lines of text"
      ]
    },
    {
      "cell_type": "markdown",
      "id": "76c48894",
      "metadata": {
        "id": "76c48894"
      },
      "source": [
        "![pythonCLI.fw-2.png](attachment:pythonCLI.fw-2.png)"
      ]
    },
    {
      "cell_type": "markdown",
      "id": "1012a264",
      "metadata": {
        "id": "1012a264"
      },
      "source": [
        "How to organise this set of instructions in Python:\n",
        "* using __Scripts__ – compose a file with instructions"
      ]
    },
    {
      "cell_type": "markdown",
      "id": "b6b4d4d3",
      "metadata": {
        "id": "b6b4d4d3"
      },
      "source": [
        "![pythonScript.fw.png](attachment:pythonScript.fw.png)"
      ]
    },
    {
      "cell_type": "markdown",
      "id": "954bd1a5",
      "metadata": {
        "id": "954bd1a5"
      },
      "source": [
        "How to organise this set of instructions in Python:\n",
        "* using __Notebooks__ – interactively merge instructions, instructions’ results and text markdown"
      ]
    },
    {
      "cell_type": "markdown",
      "id": "314334cb",
      "metadata": {
        "id": "314334cb"
      },
      "source": [
        "## Local environment\n",
        "\n",
        "Anaconda is a distribution of the Python and R programming languages for scientific computing, that aims to simplify package management and deployment.\n",
        "\n",
        "* Install Anaconda with the latest Python (currently 3.9) - https://www.anaconda.com/\n",
        "    * Use Anaconda prompt from the Start menu to run “python” – the command line interface\n",
        "    * Use “Jupyter Notebook” to start an interactive notebook editor\n",
        "    * Use “Spyder” to start an environment for Python script editing\n",
        "    \n",
        "In this course we will mostly use Jupiter notebooks"
      ]
    },
    {
      "cell_type": "markdown",
      "id": "87fd2c51",
      "metadata": {
        "id": "87fd2c51"
      },
      "source": [
        "## Cloud environment\n",
        "\n",
        "* Register at Google Colab https://colab.research.google.com/ – a cloud environment for developing and running Python notebooks in  your browser\n",
        "* Register at Github https://github.com/ for source code storage and version control\n",
        "\n",
        "All my materials are available in Github https://github.com/DmitryPavlyuk/ai-aviation-engineering"
      ]
    },
    {
      "cell_type": "markdown",
      "id": "aab56056",
      "metadata": {
        "id": "aab56056"
      },
      "source": [
        "# Thank you"
      ]
    }
  ],
  "metadata": {
    "celltoolbar": "Slideshow",
    "kernelspec": {
      "display_name": "Python 3 (ipykernel)",
      "language": "python",
      "name": "python3"
    },
    "language_info": {
      "codemirror_mode": {
        "name": "ipython",
        "version": 3
      },
      "file_extension": ".py",
      "mimetype": "text/x-python",
      "name": "python",
      "nbconvert_exporter": "python",
      "pygments_lexer": "ipython3",
      "version": "3.9.12"
    },
    "colab": {
      "provenance": []
    }
  },
  "nbformat": 4,
  "nbformat_minor": 5
}
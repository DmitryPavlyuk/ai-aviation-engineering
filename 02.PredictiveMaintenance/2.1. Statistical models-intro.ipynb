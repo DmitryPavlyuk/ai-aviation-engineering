{
 "cells": [
  {
   "cell_type": "markdown",
   "id": "ea312817",
   "metadata": {
    "slideshow": {
     "slide_type": "slide"
    }
   },
   "source": [
    "# 2.1. Statistical Models: Introduction\n",
    "\n",
    "Module: Artificial Intelligence for Aviation Engineering\n",
    "\n",
    "Instructor: prof. Dmitry Pavlyuk"
   ]
  },
  {
   "cell_type": "markdown",
   "id": "069faf60",
   "metadata": {
    "slideshow": {
     "slide_type": "slide"
    }
   },
   "source": [
    "## Statistical Model"
   ]
  },
  {
   "cell_type": "markdown",
   "id": "645fe596",
   "metadata": {
    "slideshow": {
     "slide_type": "subslide"
    }
   },
   "source": [
    "## Prediction\n",
    "\n",
    "Assume we have two variables - y (response) and x (predictor), e.g.:\n",
    "- remaining useful life (response) and sensor value (predictor)\n",
    "- required fuel (response) and flight distance (predictor)\n",
    "- flight delay (response) and humidity (predictor)\n",
    "\n",
    "There is an asymmetry in these problems: their response variable we'd like to predict is more difficult to measure and directly or indirectly influenced by the values of the predictor variable."
   ]
  },
  {
   "cell_type": "markdown",
   "id": "a4a1bc54",
   "metadata": {
    "slideshow": {
     "slide_type": "subslide"
    }
   },
   "source": [
    "## Statistical model\n",
    "\n",
    "We assume that the response variable _y_ relates to the predictor _x_ through some unknown function  expressed generally as:\n",
    "\n",
    "$$\n",
    "y = f(x) + \\varepsilon\n",
    "$$\n",
    "\n",
    "Here,\n",
    "\n",
    "- __f__ is the __unknown function__ expressing an underlying rule for relating _y_ to _x_,\n",
    "- __$\\varepsilon$__ is a random amount (unrelated to _x_) that _y_ differs from the rule _f(x)_."
   ]
  },
  {
   "cell_type": "markdown",
   "id": "3c215acb",
   "metadata": {
    "slideshow": {
     "slide_type": "subslide"
    }
   },
   "source": [
    "## Statistical model\n",
    "\n",
    "A statistical model is any algorithm that estimates __${f}$__. \n",
    "\n",
    "We denote the estimated function as __$\\hat{f}$__.\n",
    "\n",
    "When we put a measurement of the predictor $x_p$ into the estimated function to predict a value for the response variable, we denote the predicted value by __$\\hat{y}$__:\n",
    "\n",
    "$\\hat{y}_p$ = $\\hat{f}(x_p)$\n"
   ]
  },
  {
   "cell_type": "markdown",
   "id": "f90bbec2",
   "metadata": {
    "slideshow": {
     "slide_type": "subslide"
    }
   },
   "source": [
    "## Statistical model: popular algorithms\n",
    "\n",
    "- k-nearest neighbours (KNN)\n",
    "- linear regression (LR)\n",
    "- support vector regression (SVR)\n",
    "- decision tree (DT)\n",
    "- random forest (RF)\n",
    "- feed-forward artificial neural network (FFNN)"
   ]
  },
  {
   "cell_type": "markdown",
   "id": "bcf5431e",
   "metadata": {
    "slideshow": {
     "slide_type": "subslide"
    }
   },
   "source": [
    "## Toy Example\n",
    "\n",
    "Data:"
   ]
  },
  {
   "cell_type": "code",
   "execution_count": 2,
   "id": "379e5b8e",
   "metadata": {
    "slideshow": {
     "slide_type": "-"
    }
   },
   "outputs": [
    {
     "data": {
      "text/html": [
       "<div>\n",
       "<style scoped>\n",
       "    .dataframe tbody tr th:only-of-type {\n",
       "        vertical-align: middle;\n",
       "    }\n",
       "\n",
       "    .dataframe tbody tr th {\n",
       "        vertical-align: top;\n",
       "    }\n",
       "\n",
       "    .dataframe thead th {\n",
       "        text-align: right;\n",
       "    }\n",
       "</style>\n",
       "<table border=\"1\" class=\"dataframe\">\n",
       "  <thead>\n",
       "    <tr style=\"text-align: right;\">\n",
       "      <th></th>\n",
       "      <th>0</th>\n",
       "      <th>1</th>\n",
       "      <th>2</th>\n",
       "      <th>3</th>\n",
       "      <th>4</th>\n",
       "      <th>5</th>\n",
       "      <th>6</th>\n",
       "      <th>7</th>\n",
       "      <th>8</th>\n",
       "      <th>9</th>\n",
       "    </tr>\n",
       "  </thead>\n",
       "  <tbody>\n",
       "    <tr>\n",
       "      <th>x</th>\n",
       "      <td>1</td>\n",
       "      <td>2</td>\n",
       "      <td>3</td>\n",
       "      <td>4</td>\n",
       "      <td>5</td>\n",
       "      <td>6</td>\n",
       "      <td>7</td>\n",
       "      <td>8</td>\n",
       "      <td>9</td>\n",
       "      <td>10</td>\n",
       "    </tr>\n",
       "    <tr>\n",
       "      <th>y</th>\n",
       "      <td>2</td>\n",
       "      <td>2</td>\n",
       "      <td>4</td>\n",
       "      <td>3</td>\n",
       "      <td>5</td>\n",
       "      <td>7</td>\n",
       "      <td>7</td>\n",
       "      <td>5</td>\n",
       "      <td>9</td>\n",
       "      <td>8</td>\n",
       "    </tr>\n",
       "  </tbody>\n",
       "</table>\n",
       "</div>"
      ],
      "text/plain": [
       "   0  1  2  3  4  5  6  7  8   9\n",
       "x  1  2  3  4  5  6  7  8  9  10\n",
       "y  2  2  4  3  5  7  7  5  9   8"
      ]
     },
     "execution_count": 2,
     "metadata": {},
     "output_type": "execute_result"
    }
   ],
   "source": [
    "import numpy as np\n",
    "import pandas as pd\n",
    "import matplotlib.pyplot as plt\n",
    "x_train = np.array(range(1,11))\n",
    "y_train = np.array([2, 2, 4, 3, 5, 7, 7, 5, 9, 8])\n",
    "data = pd.DataFrame({'x': x_train, 'y': y_train})\n",
    "data.T"
   ]
  },
  {
   "cell_type": "code",
   "execution_count": 3,
   "id": "d813beeb",
   "metadata": {},
   "outputs": [],
   "source": [
    "xp = 5.7"
   ]
  },
  {
   "cell_type": "markdown",
   "id": "042bf013",
   "metadata": {
    "slideshow": {
     "slide_type": "subslide"
    }
   },
   "source": [
    "## Toy Example\n",
    "\n",
    "Plot:"
   ]
  },
  {
   "cell_type": "code",
   "execution_count": 4,
   "id": "9c197e5f",
   "metadata": {},
   "outputs": [
    {
     "data": {
      "image/png": "[encoded data removed]",
      "text/plain": [
       "<Figure size 800x600 with 1 Axes>"
      ]
     },
     "metadata": {},
     "output_type": "display_data"
    }
   ],
   "source": [
    "data.plot(kind='scatter', x='x', y='y', color='b', figsize=(8, 6))\n",
    "plt.show()"
   ]
  },
  {
   "cell_type": "markdown",
   "id": "9f89e9da",
   "metadata": {
    "slideshow": {
     "slide_type": "subslide"
    }
   },
   "source": [
    "## Simple model: 1-Nearest Neighbor\n",
    "\n",
    "The 1-Nearest Neighbor model is an intuitive way to predict a quantitative response variable:\n",
    "\n",
    "__to predict a response for the observed predictor value, we use the responses of other observation most similar to it!__\n",
    "\n",
    "$x_p = 5.7$\n",
    "\n",
    "The nearest neighbour is $x_6$ = 6, so $\\hat{y_p} = y_6 = 7$"
   ]
  },
  {
   "cell_type": "markdown",
   "id": "74305474",
   "metadata": {
    "slideshow": {
     "slide_type": "subslide"
    }
   },
   "source": [
    "## Simple model: 1-Nearest Neighbor"
   ]
  },
  {
   "cell_type": "code",
   "execution_count": 5,
   "id": "bf79397e",
   "metadata": {},
   "outputs": [
    {
     "data": {
      "text/plain": [
       "<Figure size 800x600 with 0 Axes>"
      ]
     },
     "metadata": {},
     "output_type": "display_data"
    },
    {
     "data": {
      "image/png": "[encoded data removed]",
      "text/plain": [
       "<Figure size 800x600 with 1 Axes>"
      ]
     },
     "metadata": {},
     "output_type": "display_data"
    }
   ],
   "source": [
    "from sklearn.neighbors import KNeighborsRegressor\n",
    "knn = KNeighborsRegressor(n_neighbors=1)\n",
    "knn.fit(data[[\"x\"]], data[[\"y\"]])\n",
    "x_test = pd.DataFrame(np.arange(1, 10, 0.1), columns=['x'])\n",
    "y_pred = knn.predict(x_test)\n",
    "plt.figure(figsize=(8, 6))\n",
    "data.plot(kind='scatter', x='x', y='y', color='b', figsize=(8, 6))\n",
    "plt.plot(x_test, y_pred, color='r', label='1-NN Predictor Line')\n",
    "plt.xlabel('x')\n",
    "plt.ylabel('y')\n",
    "plt.title('1-Nearest Neighbor Regression')\n",
    "plt.legend()\n",
    "plt.grid()\n",
    "plt.show();"
   ]
  },
  {
   "cell_type": "markdown",
   "id": "aab56056",
   "metadata": {
    "id": "aab56056",
    "slideshow": {
     "slide_type": "slide"
    }
   },
   "source": [
    "# Thank you"
   ]
  }
 ],
 "metadata": {
  "celltoolbar": "Slideshow",
  "kernelspec": {
   "display_name": "Python 3 (ipykernel)",
   "language": "python",
   "name": "python3"
  },
  "language_info": {
   "codemirror_mode": {
    "name": "ipython",
    "version": 3
   },
   "file_extension": ".py",
   "mimetype": "text/x-python",
   "name": "python",
   "nbconvert_exporter": "python",
   "pygments_lexer": "ipython3",
   "version": "3.12.3"
  }
 },
 "nbformat": 4,
 "nbformat_minor": 5
}

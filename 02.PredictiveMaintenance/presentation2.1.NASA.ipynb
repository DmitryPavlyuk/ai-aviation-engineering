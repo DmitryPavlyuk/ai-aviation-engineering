{
 "cells": [
  {
   "cell_type": "markdown",
   "id": "840fd77a",
   "metadata": {
    "colab_type": "text",
    "id": "view-in-github"
   },
   "source": [
    "<a href=\"https://colab.research.google.com/github/DmitryPavlyuk/ai-aviation-engineering/blob/main/01.Introduction/presentation1.1.AI.ipynb\" target=\"_parent\"><img src=\"https://colab.research.google.com/assets/colab-badge.svg\" alt=\"Open In Colab\"/></a>"
   ]
  },
  {
   "cell_type": "markdown",
   "id": "69429c05",
   "metadata": {
    "id": "69429c05"
   },
   "source": [
    "# 1. NASA Turbofan Jet Engine Data Set\n",
    "\n",
    "Module: Artificial Intelligence for Aviation Engineering\n",
    "\n",
    "Instructor: prof. Dmitry Pavlyuk"
   ]
  },
  {
   "cell_type": "markdown",
   "id": "1f9ddefc",
   "metadata": {
    "id": "69429c05",
    "slideshow": {
     "slide_type": "slide"
    }
   },
   "source": [
    "# Data Set\n",
    "\n",
    "CMAPSS Jet Engine Simulated Data\n",
    "\n",
    "https://data.nasa.gov/Aerospace/CMAPSS-Jet-Engine-Simulated-Data/ff5v-kuh6/about_data\n",
    "\n",
    "\n",
    "Data sets consists of multiple multivariate time series. Each data set is further divided into training and test subsets. Each time series is from a different engine i.e., the data can be considered to be from a fleet of engines of the same type. Each engine starts with different degrees of initial wear and manufacturing variation which is unknown to the user. This wear and variation is considered normal, i.e., it is not considered a fault condition. There are three operational settings that have a substantial effect on engine performance."
   ]
  },
  {
   "cell_type": "code",
   "execution_count": 7,
   "id": "3d72cca1",
   "metadata": {},
   "outputs": [
    {
     "name": "stderr",
     "output_type": "stream",
     "text": [
      "  % Total    % Received % Xferd  Average Speed   Time    Time     Time  Current\n",
      "                                 Dload  Upload   Total   Spent    Left  Speed\n",
      "\n",
      "  0     0    0     0    0     0      0      0 --:--:-- --:--:-- --:--:--     0\n",
      "100   174    0   174    0     0    178      0 --:--:-- --:--:-- --:--:--   178\n",
      "100   174    0   174    0     0    178      0 --:--:-- --:--:-- --:--:--   178\n"
     ]
    }
   ],
   "source": [
    "!curl -o CMAPSS.zip \"https://data.nasa.gov/download/ff5v-kuh6/application.zip\""
   ]
  },
  {
   "cell_type": "code",
   "execution_count": 6,
   "id": "2580ee64",
   "metadata": {},
   "outputs": [
    {
     "name": "stderr",
     "output_type": "stream",
     "text": [
      "'unzip' is not recognized as an internal or external command,\n",
      "operable program or batch file.\n"
     ]
    }
   ],
   "source": [
    "!unzip CMAPSS.zip -d CMAPSS"
   ]
  },
  {
   "cell_type": "markdown",
   "id": "aab56056",
   "metadata": {
    "id": "aab56056"
   },
   "source": [
    "# Thank you"
   ]
  }
 ],
 "metadata": {
  "celltoolbar": "Slideshow",
  "colab": {
   "include_colab_link": true,
   "provenance": []
  },
  "kernelspec": {
   "display_name": "Python 3 (ipykernel)",
   "language": "python",
   "name": "python3"
  },
  "language_info": {
   "codemirror_mode": {
    "name": "ipython",
    "version": 3
   },
   "file_extension": ".py",
   "mimetype": "text/x-python",
   "name": "python",
   "nbconvert_exporter": "python",
   "pygments_lexer": "ipython3",
   "version": "3.9.12"
  }
 },
 "nbformat": 4,
 "nbformat_minor": 5
}
